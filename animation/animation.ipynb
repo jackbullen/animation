{
 "cells": [
  {
   "cell_type": "code",
   "execution_count": 1,
   "metadata": {},
   "outputs": [],
   "source": [
    "import numpy as np\n",
    "import numpy.linalg as la\n",
    "import matplotlib.pyplot as plt\n",
    "from matplotlib.animation import FuncAnimation\n",
    "from matplotlib.animation import PillowWriter"
   ]
  },
  {
   "cell_type": "code",
   "execution_count": 2,
   "metadata": {},
   "outputs": [],
   "source": [
    "def rotate(V, theta):\n",
    "    \"\"\"Rotate vector V by theta radians.\"\"\"\n",
    "    R = np.array([[np.cos(theta), -np.sin(theta)],\n",
    "                  [np.sin(theta),  np.cos(theta)]])\n",
    "    return np.dot(R, V)\n",
    "\n",
    "def project(u, v):\n",
    "    '''Project vector u onto vector v.'''\n",
    "    return np.dot(u, v) / la.norm(v) * v/la.norm(v)"
   ]
  },
  {
   "cell_type": "code",
   "execution_count": 3,
   "metadata": {},
   "outputs": [],
   "source": [
    "u = np.array([2,1.4])\n",
    "i = np.array([1,0])\n",
    "j = np.array([0,1])\n",
    "\n",
    "fig, ax = plt.subplots()\n",
    "xdata, ydata = [], []\n",
    "ax.set_aspect('equal')\n",
    "ln, = plt.plot([], [], 'b-')\n",
    "ln2, = plt.plot([], [], 'c-')\n",
    "\n",
    "ax.plot([0, i[0]], [0, i[1]], 'r', label='i')\n",
    "ax.plot([0, j[0]], [0, j[1]], 'g', label='j')\n",
    "\n",
    "def init():\n",
    "    ax.set_xlim(-0.1, 1.1)\n",
    "    ax.set_ylim(-0.1, 1.1)\n",
    "    ln.set_data(xdata, ydata)\n",
    "    ln2.set_data(xdata, ydata)\n",
    "    return ln, ln2\n",
    "\n",
    "def update(frame):\n",
    "    xdata.append(np.cos(frame))\n",
    "    ydata.append(np.sin(frame))\n",
    "    ln.set_data(xdata, ydata)\n",
    "    ln2.set_data(np.array([0, np.cos(frame)]), np.array([0, np.sin(frame)]))\n",
    "    return ln, ln2\n",
    "\n",
    "anim = FuncAnimation(fig, update, frames=np.linspace(0, np.pi/2, 40), blit=True, init_func=init);\n",
    "anim.save('animation.gif', writer=PillowWriter(fps=20))\n",
    "\n",
    "plt.close(fig)"
   ]
  }
 ],
 "metadata": {
  "kernelspec": {
   "display_name": "Python 3",
   "language": "python",
   "name": "python3"
  },
  "language_info": {
   "codemirror_mode": {
    "name": "ipython",
    "version": 3
   },
   "file_extension": ".py",
   "mimetype": "text/x-python",
   "name": "python",
   "nbconvert_exporter": "python",
   "pygments_lexer": "ipython3",
   "version": "3.10.8"
  },
  "orig_nbformat": 4
 },
 "nbformat": 4,
 "nbformat_minor": 2
}
